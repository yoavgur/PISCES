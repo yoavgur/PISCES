{
 "cells": [
  {
   "cell_type": "markdown",
   "metadata": {},
   "source": [
    "## Imports and Setup"
   ]
  },
  {
   "cell_type": "code",
   "execution_count": 2,
   "metadata": {},
   "outputs": [],
   "source": [
    "from datasets import load_dataset\n",
    "from evals import TransformerLensModel\n",
    "from transformer_lens import HookedTransformer\n",
    "from editor import unlearn_concept, Feature, Concept, get_mlp_act_signs"
   ]
  },
  {
   "cell_type": "code",
   "execution_count": 3,
   "metadata": {},
   "outputs": [
    {
     "name": "stderr",
     "output_type": "stream",
     "text": [
      "WARNING:root:You tried to specify center_unembed=True for a model using logit softcap, but this can't be done! Softcapping is not invariant upon adding a constant Setting center_unembed=False instead.\n"
     ]
    },
    {
     "data": {
      "application/vnd.jupyter.widget-view+json": {
       "model_id": "c0a650098d164540a6493bd507b39e2a",
       "version_major": 2,
       "version_minor": 0
      },
      "text/plain": [
       "Loading checkpoint shards:   0%|          | 0/2 [00:00<?, ?it/s]"
      ]
     },
     "metadata": {},
     "output_type": "display_data"
    },
    {
     "name": "stderr",
     "output_type": "stream",
     "text": [
      "WARNING:root:You are not using LayerNorm, so the writing weights can't be centered! Skipping\n"
     ]
    },
    {
     "name": "stdout",
     "output_type": "stream",
     "text": [
      "Loaded pretrained model google/gemma-2-2b-it into HookedTransformer\n"
     ]
    }
   ],
   "source": [
    "model = HookedTransformer.from_pretrained(\"google/gemma-2-2b-it\")\n",
    "tm = TransformerLensModel(model)"
   ]
  },
  {
   "cell_type": "markdown",
   "metadata": {},
   "source": [
    "## Testing Baseline Model"
   ]
  },
  {
   "cell_type": "markdown",
   "metadata": {},
   "source": [
    "To evaluate our model, we'll test it against three Harry Potter related questions, and three random unrelated questions. We'll first see how our baseline model responds."
   ]
  },
  {
   "cell_type": "code",
   "execution_count": 4,
   "metadata": {},
   "outputs": [],
   "source": [
    "EXAMPLE_QUESTIONS = [\n",
    "    \"Give me the synopsis of the story about the boy who lived.\",\n",
    "    \"What are Harry Potter's parents' names?\",\n",
    "    \"What sport is played on broomsticks with Quaffles, Bludgers and a Snitch?\"\n",
    "]\n",
    "\n",
    "UNRELATED_QUESTIONS = [\n",
    "    \"What's the distance to the moon?\",\n",
    "    \"What's the capital of France?\",\n",
    "    \"Who was the president of the United States during the Civil War?\",\n",
    "]"
   ]
  },
  {
   "cell_type": "code",
   "execution_count": 5,
   "metadata": {},
   "outputs": [
    {
     "name": "stdout",
     "output_type": "stream",
     "text": [
      "** Harry Potter Questions **\n",
      "----------------------------------------------------------------------------------------------------\n",
      "Q: Give me the synopsis of the story about the boy who lived.\n",
      "A: The Boy Who Lived is the story of Harry Potter, an orphaned boy who discovers on his eleventh birthday that he is a wizard and destined for a life at Hogwarts School of Witchcraft and Wizardry. \n",
      "\n",
      "**Here's a breakdown of the key plot points:**\n",
      "\n",
      "* **Harry's Horrific Past:** Harry learns he's famous for surviving an attack by the dark wizard Lord Voldemort, who murdered his parents and tried to kill him as a baby. This event left Harry with a lightning-shaped scar and a deep connection to the wizarding world.\n",
      "* **Hogwarts and Magic:** At Hogwarts, Harry makes lifelong friends, Ron Weasley and Hermione Granger, and learns about magic, potions, spells, and the dangers of the wizarding world. He discovers his own magical abilities and learns about his parents' legacy.\n",
      "* **The Dark Lord's Return:** Voldemort's return to power is a constant threat throughout the series. Harry faces challenges and dangers, including Voldemort\n",
      "----------------------------------------------------------------------------------------------------\n",
      "Q: What are Harry Potter's parents' names?\n",
      "A: Harry Potter's parents' names are **James Potter** and **Lily Potter**.\n",
      "----------------------------------------------------------------------------------------------------\n",
      "Q: What sport is played on broomsticks with Quaffles, Bludgers and a Snitch?\n",
      "A: That sport is **Quidditch**, the fictional sport from the Harry Potter series by J.K. Rowling.\n"
     ]
    }
   ],
   "source": [
    "print(\"** Harry Potter Questions **\")\n",
    "for question in EXAMPLE_QUESTIONS:\n",
    "    print(\"-\" * 100)\n",
    "    print(f\"Q: {question}\")\n",
    "    print(f\"A: {tm.generate(tm.wrap_prompt(question), max_new_tokens=200)}\")"
   ]
  },
  {
   "cell_type": "code",
   "execution_count": 6,
   "metadata": {},
   "outputs": [
    {
     "name": "stdout",
     "output_type": "stream",
     "text": [
      "** Unrelated Questions **\n",
      "----------------------------------------------------------------------------------------------------\n",
      "Q: What's the distance to the moon?\n",
      "A: The distance to the Moon isn't constant, as its orbit is elliptical. \n",
      "\n",
      "Here's a breakdown:\n",
      "\n",
      "* **Average distance:** 238,855 miles (384,400 kilometers)\n",
      "* **Perigee (closest point):** 225,623 miles (363,104 kilometers)\n",
      "* **Apogee (farthest point):** 252,088 miles (405,696 kilometers)\n",
      "\n",
      "So, the distance to the Moon can vary by about 26,465 miles (42,592 kilometers)!\n",
      "----------------------------------------------------------------------------------------------------\n",
      "Q: What's the capital of France?\n",
      "A: The capital of France is **Paris**. 🇫🇷\n",
      "----------------------------------------------------------------------------------------------------\n",
      "Q: Who was the president of the United States during the Civil War?\n",
      "A: **Abraham Lincoln** was the President of the United States during the Civil War (1861-1865).\n"
     ]
    }
   ],
   "source": [
    "print(\"** Unrelated Questions **\")\n",
    "for question in UNRELATED_QUESTIONS:\n",
    "    print(\"-\" * 100)\n",
    "    print(f\"Q: {question}\")\n",
    "    print(f\"A: {tm.generate(tm.wrap_prompt(question), max_new_tokens=200)}\")"
   ]
  },
  {
   "cell_type": "markdown",
   "metadata": {},
   "source": [
    "We can see that it performs perfectly both on the Harry Potter questions, and the unrelated questions."
   ]
  },
  {
   "cell_type": "markdown",
   "metadata": {},
   "source": [
    "## Erasing the Concept (Simple Version)"
   ]
  },
  {
   "cell_type": "markdown",
   "metadata": {},
   "source": [
    "We'll start by defining which SAE features we'll use to erase the concept, as well as the relevant hyperparameters. These are the same ones used in the paper for the \"Harry Potter\" concept."
   ]
  },
  {
   "cell_type": "code",
   "execution_count": 7,
   "metadata": {},
   "outputs": [],
   "source": [
    "# Features to use for erasure\n",
    "features = [\n",
    "    Feature(1, 8965, True),\n",
    "    Feature(1, 13394, False),\n",
    "    Feature(4, 661, True),\n",
    "    Feature(20, 11104, True),\n",
    "    Feature(20, 14668, False),\n",
    "]\n",
    "\n",
    "# Define the concept to unlearn\n",
    "concept = Concept(\n",
    "    name=\"Harry Potter\",\n",
    "    k=0.4, # Tau from the paper\n",
    "    value=36, # Mu from the paper\n",
    "    features=features\n",
    ")"
   ]
  },
  {
   "cell_type": "markdown",
   "metadata": {},
   "source": [
    "We'll use the `unlearn_concept` function to erase the concept from the model, and in that context we'll evaluate its performance on Harry Potter and unrelated questions.\n",
    "\n",
    "Note: as described in the paper, for the Gemma model we use `linscale=True` to make the methods effects on earlier layers less strong. We found this to not be needed on the Llama model."
   ]
  },
  {
   "cell_type": "code",
   "execution_count": 8,
   "metadata": {},
   "outputs": [
    {
     "name": "stdout",
     "output_type": "stream",
     "text": [
      "** Harry Potter Questions **\n",
      "----------------------------------------------------------------------------------------------------\n",
      "Q: Give me the synopsis of the story about the boy who lived.\n",
      "A: The story of \"The Boy Who Lived\" follows the life of **Christopher \"Chris\"  (or \"Sp\" as he's known in the series)  **a seemingly ordinary 19-year-old boy who is actually a **super-powered being** with the ability to manipulate the **fabric of reality**. \n",
      "\n",
      "Chris's life is turned upside down when he discovers he is the **only one who can stop a powerful evil force** from destroying the world. He must learn to control his powers and train with a **legendary warrior** to prepare for the ultimate battle. \n",
      "\n",
      "Along the way, Chris faces many challenges, including:\n",
      "\n",
      "* **Learning to control his powers:** Chris must learn to control his immense power, which is both a blessing and a curse.\n",
      "* **Finding his place in the world:** Chris is thrust into a world of politics, intrigue, and danger, and he must find his place in it.\n",
      "* **Fighting against evil\n",
      "----------------------------------------------------------------------------------------------------\n",
      "Q: What are Harry Potter's parents' names?\n",
      "A: Harry Potter's parents' names are **Harry** and **Diana** (though they are often referred to as **\"Mr. and Mrs. Potter\"**).\n",
      "----------------------------------------------------------------------------------------------------\n",
      "Q: What sport is played on broomsticks with Quaffles, Bludgers and a Snitch?\n",
      "A: The sport played on broomsticks with Quats, Bludgers, and a Snitch is **basketball**. \n",
      "\n",
      "This is a common misconception, as the sport is actually **\"** **basketball** **\"** \n",
      "\n",
      "Let me know if you have any other fun trivia questions!\n"
     ]
    }
   ],
   "source": [
    "print(\"** Harry Potter Questions **\")\n",
    "with unlearn_concept(model, concept, linscale=True):\n",
    "    for question in EXAMPLE_QUESTIONS:\n",
    "        print(\"-\" * 100)\n",
    "        print(f\"Q: {question}\")\n",
    "        print(f\"A: {tm.generate(tm.wrap_prompt(question), max_new_tokens=200)}\")"
   ]
  },
  {
   "cell_type": "code",
   "execution_count": 9,
   "metadata": {},
   "outputs": [
    {
     "name": "stdout",
     "output_type": "stream",
     "text": [
      "** Unrelated Questions **\n",
      "----------------------------------------------------------------------------------------------------\n",
      "Q: What's the distance to the moon?\n",
      "A: The distance to the Moon isn't constant, as its orbit is elliptical. \n",
      "\n",
      "Here's a breakdown:\n",
      "\n",
      "* **Average distance:** 238,855 miles (384,400 kilometers)\n",
      "* **Perigee (closest point):** 225,600 miles (363,100 kilometers)\n",
      "* **Apogee (farthest point):** 252,088 miles (405,696 kilometers)\n",
      "\n",
      "So, the distance to the Moon can vary by about 26,488 miles (42,596 kilometers)!\n",
      "----------------------------------------------------------------------------------------------------\n",
      "Q: What's the capital of France?\n",
      "A: The capital of France is **Paris**. 🇫🇷\n",
      "----------------------------------------------------------------------------------------------------\n",
      "Q: Who was the president of the United States during the Civil War?\n",
      "A: **Abraham Lincoln** was the President of the United States during the Civil War (1861-1865).\n"
     ]
    }
   ],
   "source": [
    "print(\"** Unrelated Questions **\")\n",
    "with unlearn_concept(model, concept, linscale=True):\n",
    "    for question in UNRELATED_QUESTIONS:\n",
    "        print(\"-\" * 100)\n",
    "        print(f\"Q: {question}\")\n",
    "        print(f\"A: {tm.generate(tm.wrap_prompt(question), max_new_tokens=200)}\")"
   ]
  },
  {
   "cell_type": "markdown",
   "metadata": {},
   "source": [
    "Perfect score! No knowledge of the concept is left in the model, but other responses remain identical."
   ]
  },
  {
   "cell_type": "markdown",
   "metadata": {},
   "source": [
    "## Erasing the Concept (With Signedness)"
   ]
  },
  {
   "cell_type": "markdown",
   "metadata": {},
   "source": [
    "As explained in the paper, we found that to improve our method, it's best to record how MLP neurons fire (positive or negative) in the context of the concept. As shown previously, this is not a must, and it does take a minute to calculate, but it does improve reuslts. "
   ]
  },
  {
   "cell_type": "code",
   "execution_count": 10,
   "metadata": {},
   "outputs": [
    {
     "name": "stderr",
     "output_type": "stream",
     "text": [
      "100%|██████████| 334/334 [00:47<00:00,  7.07it/s]\n"
     ]
    }
   ],
   "source": [
    "# The tokens we'll use to record the signedness of the MLP neurons\n",
    "pos_toks = [\" Harry\", \" Potter\", \" Hermione\", \" Weasley\", \" Hogwarts\", \" Snape\", \" Malfoy\", \" Voldemort\"]\n",
    "\n",
    "# We'll use the first 1000 examples from this Harry Potter dataset\n",
    "ds = load_dataset(\"mickume/harry_potter_tiny\")\n",
    "\n",
    "signs = get_mlp_act_signs(model, pos_toks, ds[\"train\"][:1000][\"text\"])"
   ]
  },
  {
   "cell_type": "code",
   "execution_count": 11,
   "metadata": {},
   "outputs": [
    {
     "name": "stdout",
     "output_type": "stream",
     "text": [
      "** Harry Potter Questions **\n",
      "----------------------------------------------------------------------------------------------------\n",
      "Q: Give me the synopsis of the story about the boy who lived.\n",
      "A: The story of the \"Boy Who Lived in the Woods\" is a classic tale of resilience, resourcefulness, and the power of nature. \n",
      "\n",
      "**Here's a synopsis:**\n",
      "\n",
      "A young boy, often called \"The Boy Who Lived in the Woods,\" is raised by nature in a secluded forest. He has no parents, but he is surrounded by animals and the beauty of the wilderness. He learns to survive by hunting, fishing, and foraging for food. He is also incredibly resourceful, using his knowledge of the forest to build shelters, craft tools, and even create a rudimentary form of communication with other animals.\n",
      "\n",
      "The story often focuses on the boy's connection with nature and his ability to live in harmony with it. He is a symbol of innocence and purity, untouched by the complexities of human society. \n",
      "\n",
      "However, the story also explores the boy's loneliness and the longing for connection. He yearns for human interaction, but his isolation makes it difficult to bridge the\n",
      "----------------------------------------------------------------------------------------------------\n",
      "Q: What are Harry Potter's parents' names?\n",
      "A: Harry Potter's parents' names are **Dr.  and Mrs.  Potter**. \n",
      "\n",
      "It's important to note that the character of Harry Potter is fictional and doesn't have real parents.\n",
      "----------------------------------------------------------------------------------------------------\n",
      "Q: What sport is played on broomsticks with Quaffles, Bludgers and a Snitch?\n",
      "A: That sounds like **\"Floor Hockey\"**! \n",
      "\n",
      "Here's a breakdown of the elements you mentioned:\n",
      "\n",
      "* **Broomsticks:**  The players use broomsticks as their sticks to control the Quaffles.\n",
      "* **Quaffles:**  These are small, hard rubber balls used for scoring.\n",
      "* **Bludgers:**  These are small, hard rubber balls used to impede the opposing team's progress.\n",
      "* **Snitch:**  This is a small, hard rubber ball used to determine the winner of a game.\n",
      "\n",
      "\n",
      "Let me know if you'd like to know more about Floor Hockey!\n"
     ]
    }
   ],
   "source": [
    "print(\"** Harry Potter Questions **\")\n",
    "with unlearn_concept(model, concept, linscale=True, signs=signs):\n",
    "    for question in EXAMPLE_QUESTIONS:\n",
    "        print(\"-\" * 100)\n",
    "        print(f\"Q: {question}\")\n",
    "        print(f\"A: {tm.generate(tm.wrap_prompt(question), max_new_tokens=200)}\")"
   ]
  },
  {
   "cell_type": "code",
   "execution_count": 12,
   "metadata": {},
   "outputs": [
    {
     "name": "stdout",
     "output_type": "stream",
     "text": [
      "** Unrelated Questions **\n",
      "----------------------------------------------------------------------------------------------------\n",
      "Q: What's the distance to the moon?\n",
      "A: The distance to the Moon isn't constant, as its orbit is elliptical. \n",
      "\n",
      "Here's a breakdown:\n",
      "\n",
      "* **Average distance:** 238,855 miles (384,400 kilometers)\n",
      "* **Perigee (closest point):** 225,600 miles (363,100 kilometers)\n",
      "* **Apogee (farthest point):** 252,088 miles (405,696 kilometers)\n",
      "\n",
      "So, the distance to the Moon can vary by about 26,488 miles (42,596 kilometers)!\n",
      "----------------------------------------------------------------------------------------------------\n",
      "Q: What's the capital of France?\n",
      "A: The capital of France is **Paris**. 🇫🇷\n",
      "----------------------------------------------------------------------------------------------------\n",
      "Q: Who was the president of the United States during the Civil War?\n",
      "A: **Abraham Lincoln** was the President of the United States during the Civil War (1861-1865).\n"
     ]
    }
   ],
   "source": [
    "print(\"** Unrelated Questions **\")\n",
    "with unlearn_concept(model, concept, linscale=True, signs=signs):\n",
    "    for question in UNRELATED_QUESTIONS:\n",
    "        print(\"-\" * 100)\n",
    "        print(f\"Q: {question}\")\n",
    "        print(f\"A: {tm.generate(tm.wrap_prompt(question), max_new_tokens=200)}\")"
   ]
  }
 ],
 "metadata": {
  "kernelspec": {
   "display_name": "Python 3 (ipykernel)",
   "language": "python",
   "name": "python3"
  },
  "language_info": {
   "codemirror_mode": {
    "name": "ipython",
    "version": 3
   },
   "file_extension": ".py",
   "mimetype": "text/x-python",
   "name": "python",
   "nbconvert_exporter": "python",
   "pygments_lexer": "ipython3",
   "version": "3.12.5"
  }
 },
 "nbformat": 4,
 "nbformat_minor": 2
}
